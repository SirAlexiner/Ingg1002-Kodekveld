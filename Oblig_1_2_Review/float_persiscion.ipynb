{
 "cells": [
  {
   "cell_type": "code",
   "execution_count": 1,
   "metadata": {},
   "outputs": [],
   "source": [
    "def a_pluss_b_ganger_a_minus_b(a, b):\n",
    "    return (a+b)*(a-b)\n",
    "\n",
    "def a_opphoyd_i_annen_minus_b_opphoyd_i_annen(a, b):\n",
    "    return a**2-b**2\n",
    "    \n",
    "def avvik(a, b):\n",
    "    return a_pluss_b_ganger_a_minus_b(a, b) - a_opphoyd_i_annen_minus_b_opphoyd_i_annen(a, b)"
   ]
  },
  {
   "cell_type": "code",
   "execution_count": 2,
   "metadata": {},
   "outputs": [
    {
     "name": "stdout",
     "output_type": "stream",
     "text": [
      "0.21^2 - 0.2^2 = 0.0040999999999999925\n",
      "0.21^2 - 0.2^2 = 0.004099999999999986\n",
      "Avvik mellom de to regnemetodene = 6.938893903907228e-18\n"
     ]
    }
   ],
   "source": [
    "a = 0.21\n",
    "b = 0.2\n",
    "\n",
    "print(f'0.21^2 - 0.2^2 = {a_pluss_b_ganger_a_minus_b(a, b)}')\n",
    "print(f'0.21^2 - 0.2^2 = {a_opphoyd_i_annen_minus_b_opphoyd_i_annen(a, b)}')\n",
    "print(f'Avvik mellom de to regnemetodene = {avvik(a, b)}')"
   ]
  },
  {
   "cell_type": "code",
   "execution_count": 3,
   "metadata": {},
   "outputs": [
    {
     "name": "stdout",
     "output_type": "stream",
     "text": [
      "Sum av bare de små: 0.0011700000000000002\n",
      "Sum med stort tall først: 300000.0011699998\n",
      "Sum med lite tall først: 300000.00117\n"
     ]
    }
   ],
   "source": [
    "T = 3e5 # et stort tall\n",
    "t = 3e-5 # et lite tall\n",
    "\n",
    "#sum av mange små tall\n",
    "sum_mange    = t+t+t+t+t+t+t+t+t+t+t+t+t+t+t+t+t+t+t+t+t+t+t+t+t+t+t+t+t+t+t+t+t+t+t+t+t+t+t\n",
    "\n",
    "# summerer med stort tall fremst, så de små\n",
    "stor_fremst  = T+t+t+t+t+t+t+t+t+t+t+t+t+t+t+t+t+t+t+t+t+t+t+t+t+t+t+t+t+t+t+t+t+t+t+t+t+t+t+t\n",
    "\n",
    "# samme sum men nå med stort tall bakerst\n",
    "stor_bakerst = t+t+t+t+t+t+t+t+t+t+t+t+t+t+t+t+t+t+t+t+t+t+t+t+t+t+t+t+t+t+t+t+t+t+t+t+t+t+t+T\n",
    "\n",
    "print(f'Sum av bare de små: {sum_mange}')\n",
    "print(f'Sum med stort tall først: {stor_fremst}')\n",
    "print(f'Sum med lite tall først: {stor_bakerst}')"
   ]
  }
 ],
 "metadata": {
  "kernelspec": {
   "display_name": "Python 3",
   "language": "python",
   "name": "python3"
  },
  "language_info": {
   "codemirror_mode": {
    "name": "ipython",
    "version": 3
   },
   "file_extension": ".py",
   "mimetype": "text/x-python",
   "name": "python",
   "nbconvert_exporter": "python",
   "pygments_lexer": "ipython3",
   "version": "3.11.5"
  },
  "orig_nbformat": 4
 },
 "nbformat": 4,
 "nbformat_minor": 2
}
