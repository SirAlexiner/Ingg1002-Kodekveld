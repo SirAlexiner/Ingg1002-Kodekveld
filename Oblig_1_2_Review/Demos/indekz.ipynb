{
 "cells": [
  {
   "cell_type": "code",
   "execution_count": 2,
   "metadata": {},
   "outputs": [],
   "source": [
    "import numpy as np"
   ]
  },
  {
   "cell_type": "code",
   "execution_count": 10,
   "metadata": {},
   "outputs": [
    {
     "name": "stdout",
     "output_type": "stream",
     "text": [
      "4\n",
      "0\n",
      "18.03.1996\n",
      "18.03.1996\n"
     ]
    }
   ],
   "source": [
    "#       0   1   2   3\n",
    "antall_elever_oppmøt = [39, 69, 71, 99, 420]\n",
    "dato = [\"18.03.1996\", \"09.11.2001\", \"22.07.2011\",\"07.09.2023\", \"33 år etter kristus\"]\n",
    "\n",
    "index_max = np.argmax(antall_elever_oppmøt)\n",
    "index_min = np.argmin(antall_elever_oppmøt)\n",
    "\n",
    "print(index_max)\n",
    "print(index_min)\n",
    "\n",
    "print(dato[-0])\n",
    "print(dato[index_min])"
   ]
  },
  {
   "cell_type": "code",
   "execution_count": 5,
   "metadata": {},
   "outputs": [
    {
     "name": "stdout",
     "output_type": "stream",
     "text": [
      "Hei\n",
      "Til\n",
      "Deg\n",
      "Eivind\n"
     ]
    }
   ],
   "source": [
    "antall_elever_oppmøt = [\"Hei\", \"Til\", \"Deg\", \"Eivind\"]\n",
    "\n",
    "for i in range(4):  \n",
    "    print(antall_elever_oppmøt[i])"
   ]
  }
 ],
 "metadata": {
  "kernelspec": {
   "display_name": "Python 3",
   "language": "python",
   "name": "python3"
  },
  "language_info": {
   "codemirror_mode": {
    "name": "ipython",
    "version": 3
   },
   "file_extension": ".py",
   "mimetype": "text/x-python",
   "name": "python",
   "nbconvert_exporter": "python",
   "pygments_lexer": "ipython3",
   "version": "3.11.5"
  },
  "orig_nbformat": 4
 },
 "nbformat": 4,
 "nbformat_minor": 2
}
