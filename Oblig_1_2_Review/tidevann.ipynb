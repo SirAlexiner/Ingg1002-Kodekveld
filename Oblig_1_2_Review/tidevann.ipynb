{
 "cells": [
  {
   "cell_type": "code",
   "execution_count": 5,
   "metadata": {},
   "outputs": [],
   "source": [
    "import pandas as pd\n",
    "import numpy as np\n",
    "\n",
    "waterlevel_df = pd.read_csv(\"tidevannsdata_aalesund_uke34_2023.csv\", sep=',')\n",
    "waterlevel_measurements = list(pd.to_numeric(waterlevel_df['value']))\n",
    "measurement_timestamps = list(waterlevel_df['time'])"
   ]
  },
  {
   "cell_type": "code",
   "execution_count": 6,
   "metadata": {},
   "outputs": [],
   "source": [
    "def get_waterlevel_max(time, value):\n",
    "    index = np.argmax(value)\n",
    "    value_max = value[index]\n",
    "    tid_max = time[index]\n",
    "    return tid_max, value_max\n",
    "\n",
    "\n",
    "def get_waterlevel_min(time, value):\n",
    "    index = np.argmin(value)\n",
    "    value_min = value[index]\n",
    "    tid_min = time[index]\n",
    "    return tid_min, value_min"
   ]
  },
  {
   "cell_type": "code",
   "execution_count": 7,
   "metadata": {},
   "outputs": [
    {
     "name": "stdout",
     "output_type": "stream",
     "text": [
      "Det laveste registrerte havnivået i uke 34 var 53.3 cm på tidspunktet 2023-08-21T08:00:00.\n",
      "Det høyeste registrerte havnivået i uke 34 var 192.8 cm på tidspunktet 2023-08-21T01:00:00.\n"
     ]
    }
   ],
   "source": [
    "time_at_min, min_value = get_waterlevel_min(measurement_timestamps, waterlevel_measurements)\n",
    "time_at_max, max_value = get_waterlevel_max(measurement_timestamps, waterlevel_measurements)\n",
    "print(f\"Det laveste registrerte havnivået i uke 34 var {min_value} cm på tidspunktet {time_at_min}.\")\n",
    "print(f\"Det høyeste registrerte havnivået i uke 34 var {max_value} cm på tidspunktet {time_at_max}.\")"
   ]
  }
 ],
 "metadata": {
  "kernelspec": {
   "display_name": "Python 3",
   "language": "python",
   "name": "python3"
  },
  "language_info": {
   "codemirror_mode": {
    "name": "ipython",
    "version": 3
   },
   "file_extension": ".py",
   "mimetype": "text/x-python",
   "name": "python",
   "nbconvert_exporter": "python",
   "pygments_lexer": "ipython3",
   "version": "3.11.5"
  },
  "orig_nbformat": 4
 },
 "nbformat": 4,
 "nbformat_minor": 2
}
